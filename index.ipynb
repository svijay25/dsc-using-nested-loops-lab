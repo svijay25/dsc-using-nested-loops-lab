{
 "cells": [
  {
   "cell_type": "markdown",
   "metadata": {},
   "source": [
    "# Using Nested Loops - Lab"
   ]
  },
  {
   "cell_type": "markdown",
   "metadata": {},
   "source": [
    "## Introduction\n",
    "In this lab, you'll practice using nested loops to iterate over nested data structures and create new collections. To do this, you'll be using data from a soccer match to practice our nested loops."
   ]
  },
  {
   "cell_type": "markdown",
   "metadata": {},
   "source": [
    "## Objectives\n",
    "\n",
    "You will be able to:\n",
    "\n",
    "* Use a nested loop when it is appropriate"
   ]
  },
  {
   "cell_type": "markdown",
   "metadata": {},
   "source": [
    "## Instructions"
   ]
  },
  {
   "cell_type": "markdown",
   "metadata": {},
   "source": [
    "Use nested loops and the below object, `soccer_match`, to complete the following prompts and get the desired return values."
   ]
  },
  {
   "cell_type": "code",
   "execution_count": 1,
   "metadata": {},
   "outputs": [],
   "source": [
    "# Run this cell without changes\n",
    "soccer_match = [\n",
    "  { \"home_team\": True,\n",
    "    \"away_team\": False,\n",
    "    \"country\": \"France\",\n",
    "    \"num_passes\": 484,\n",
    "    \"passes_completed\": 423,\n",
    "    \"fouls_committed\": 16,\n",
    "    \"colors\": [\"blue\", \"white\", \"red\"],\n",
    "    \"players\": [\n",
    "      {\n",
    "        \"name\": \"Hugo LLORIS\",\n",
    "        \"captain\": True,\n",
    "        \"shirt_number\": 1,\n",
    "        \"position\": \"Goalie\"\n",
    "      },\n",
    "      {\n",
    "        \"name\": \"Benjamin PAVARD\",\n",
    "        \"captain\": False,\n",
    "        \"shirt_number\": 2,\n",
    "        \"position\": \"Defender\"\n",
    "      },\n",
    "      {\n",
    "        \"name\": \"Raphael VARANE\",\n",
    "        \"captain\": False,\n",
    "        \"shirt_number\": 4,\n",
    "        \"position\": \"Defender\"\n",
    "      },\n",
    "      {\n",
    "        \"name\": \"Samuel UMTITI\",\n",
    "        \"captain\": False,\n",
    "        \"shirt_number\": 5,\n",
    "        \"position\": \"Defender\"\n",
    "      },\n",
    "      {\n",
    "        \"name\": \"Paul POGBA\",\n",
    "        \"captain\": False,\n",
    "        \"shirt_number\": 6,\n",
    "        \"position\": \"Midfield\"\n",
    "      },\n",
    "      {\n",
    "        \"name\": \"Antoine GRIEZMANN\",\n",
    "        \"captain\": False,\n",
    "        \"shirt_number\": 7,\n",
    "        \"position\": \"Forward\"\n",
    "      },\n",
    "      {\n",
    "        \"name\": \"Kylian MBAPPE\",\n",
    "        \"captain\": False,\n",
    "        \"shirt_number\": 10,\n",
    "        \"position\": \"Forward\"\n",
    "      },\n",
    "      {\n",
    "        \"name\": \"Ousmane DEMBELE\",\n",
    "        \"captain\": False,\n",
    "        \"shirt_number\": 11,\n",
    "        \"position\": \"Forward\"\n",
    "      },\n",
    "      {\n",
    "        \"name\": \"Corentin TOLISSO\",\n",
    "        \"captain\": False,\n",
    "        \"shirt_number\": 12,\n",
    "        \"position\": \"Midfield\"\n",
    "      },\n",
    "      {\n",
    "        \"name\": \"Ngolo KANTE\",\n",
    "        \"captain\": False,\n",
    "        \"shirt_number\": 13,\n",
    "        \"position\": \"Midfield\"\n",
    "      },\n",
    "      {\n",
    "        \"name\": \"Lucas HERNANDEZ\",\n",
    "        \"captain\": False,\n",
    "        \"shirt_number\": 21,\n",
    "        \"position\": \"Defender\"\n",
    "      }\n",
    "    ],\n",
    "  },\n",
    "  { \"home_team\": False,\n",
    "    \"away_team\": True,\n",
    "    \"country\": \"Australia\",\n",
    "    \"num_passes\": 390,\n",
    "    \"passes_completed\": 332,\n",
    "    \"fouls_committed\": 19,\n",
    "    \"colors\": [\"green\", \"gold\"],\n",
    "    \"players\": [\n",
    "      {\n",
    "        \"name\": \"Mathew RYAN\",\n",
    "        \"captain\": False,\n",
    "        \"shirt_number\": 1,\n",
    "        \"position\": \"Goalie\"\n",
    "      },\n",
    "      {\n",
    "        \"name\": \"Mark MILLIGAN\",\n",
    "        \"captain\": False,\n",
    "        \"shirt_number\": 5,\n",
    "        \"position\": \"Defender\"\n",
    "      },\n",
    "      {\n",
    "        \"name\": \"Mathew LECKIE\",\n",
    "        \"captain\": False,\n",
    "        \"shirt_number\": 7,\n",
    "        \"position\": \"Forward\"\n",
    "      },\n",
    "      {\n",
    "        \"name\": \"Robbie KRUSE\",\n",
    "        \"captain\": False,\n",
    "        \"shirt_number\": 10,\n",
    "        \"position\": \"Forward\"\n",
    "      },\n",
    "      {\n",
    "        \"name\": \"Andrew NABBOUT\",\n",
    "        \"captain\": False,\n",
    "        \"shirt_number\": 11,\n",
    "        \"position\": \"Forward\"\n",
    "      },\n",
    "      {\n",
    "        \"name\": \"Aaron MOOY\",\n",
    "        \"captain\": False,\n",
    "        \"shirt_number\": 13,\n",
    "        \"position\": \"Midfield\"\n",
    "      },\n",
    "      {\n",
    "        \"name\": \"Mile JEDINAK\",\n",
    "        \"captain\": True,\n",
    "        \"shirt_number\": 15,\n",
    "        \"position\": \"Midfield\"\n",
    "      },\n",
    "      {\n",
    "        \"name\": \"Aziz BEHICH\",\n",
    "        \"captain\": False,\n",
    "        \"shirt_number\": 16,\n",
    "        \"position\": \"Defender\"\n",
    "      },\n",
    "      {\n",
    "        \"name\": \"Joshua RISDON\",\n",
    "        \"captain\": False,\n",
    "        \"shirt_number\": 19,\n",
    "        \"position\": \"Defender\"\n",
    "      },\n",
    "      {\n",
    "        \"name\": \"Trent SAINSBURY\",\n",
    "        \"captain\": False,\n",
    "        \"shirt_number\": 20,\n",
    "        \"position\": \"Defender\"\n",
    "      },\n",
    "      {\n",
    "        \"name\": \"Tom ROGIC\",\n",
    "        \"captain\": False,\n",
    "        \"shirt_number\": 23,\n",
    "        \"position\": \"Midfield\"\n",
    "      }\n",
    "    ]\n",
    "  }\n",
    "]"
   ]
  },
  {
   "cell_type": "markdown",
   "metadata": {},
   "source": [
    "Let's take a look at some properties of this nested data structure:"
   ]
  },
  {
   "cell_type": "code",
   "execution_count": 2,
   "metadata": {},
   "outputs": [
    {
     "name": "stdout",
     "output_type": "stream",
     "text": [
      "Information about soccer_match\n",
      "Type: <class 'list'>\n",
      "Length: 2\n",
      "\n",
      "Information about soccer_match[0]:\n",
      "Type: <class 'dict'>\n",
      "Length: 8\n",
      "Keys: dict_keys(['home_team', 'away_team', 'country', 'num_passes', 'passes_completed', 'fouls_committed', 'colors', 'players'])\n",
      "Values: dict_values([False, True, 'Australia', 390, 332, 19, ['green', 'gold'], [{'name': 'Mathew RYAN', 'captain': False, 'shirt_number': 1, 'position': 'Goalie'}, {'name': 'Mark MILLIGAN', 'captain': False, 'shirt_number': 5, 'position': 'Defender'}, {'name': 'Mathew LECKIE', 'captain': False, 'shirt_number': 7, 'position': 'Forward'}, {'name': 'Robbie KRUSE', 'captain': False, 'shirt_number': 10, 'position': 'Forward'}, {'name': 'Andrew NABBOUT', 'captain': False, 'shirt_number': 11, 'position': 'Forward'}, {'name': 'Aaron MOOY', 'captain': False, 'shirt_number': 13, 'position': 'Midfield'}, {'name': 'Mile JEDINAK', 'captain': True, 'shirt_number': 15, 'position': 'Midfield'}, {'name': 'Aziz BEHICH', 'captain': False, 'shirt_number': 16, 'position': 'Defender'}, {'name': 'Joshua RISDON', 'captain': False, 'shirt_number': 19, 'position': 'Defender'}, {'name': 'Trent SAINSBURY', 'captain': False, 'shirt_number': 20, 'position': 'Defender'}, {'name': 'Tom ROGIC', 'captain': False, 'shirt_number': 23, 'position': 'Midfield'}]])\n"
     ]
    }
   ],
   "source": [
    "# Run this cell without changes\n",
    "\n",
    "print(\"Information about soccer_match\")\n",
    "print(\"Type:\", type(soccer_match))\n",
    "print(\"Length:\", len(soccer_match))\n",
    "print()\n",
    "\n",
    "print(\"Information about soccer_match[0]:\")\n",
    "print(\"Type:\", type(soccer_match[0]))\n",
    "print(\"Length:\", len(soccer_match[0]))\n",
    "print(\"Keys:\", soccer_match[0].keys())\n",
    "print(\"Values:\", soccer_match[1].values())"
   ]
  },
  {
   "cell_type": "markdown",
   "metadata": {},
   "source": [
    "Before looking at the answer below, try to identify: **what does `soccer_match` represent overall, and what does each record within `soccer_match` represent?**\n",
    "\n",
    ".\n",
    "\n",
    ".\n",
    "\n",
    ".\n",
    "\n",
    "*`soccer_match` represents a soccer match (game) containing a home team and an away team. Each record within `soccer_match` represents a team that participated in the match, and their associated stats.*"
   ]
  },
  {
   "cell_type": "markdown",
   "metadata": {},
   "source": [
    "## Countries: A List of Strings\n",
    "\n",
    "In the cell below, iterate over the `soccer_match` list to create a new list with the name of the country for each team. "
   ]
  },
  {
   "cell_type": "code",
   "execution_count": 5,
   "metadata": {},
   "outputs": [
    {
     "data": {
      "text/plain": [
       "['France', 'Australia']"
      ]
     },
     "execution_count": 5,
     "metadata": {},
     "output_type": "execute_result"
    }
   ],
   "source": [
    "countries = []\n",
    "\n",
    "# Your code here\n",
    "\n",
    "# Iterate over the soccer_match list\n",
    "for match in soccer_match:\n",
    "    # Append the country name to the countries list\n",
    "    countries.append(match[\"country\"])\n",
    "\n",
    "# Display the list of countries\n",
    "countries"
   ]
  },
  {
   "cell_type": "markdown",
   "metadata": {},
   "source": [
    "## Colors: Another List of Strings!\n",
    "\n",
    "In the cell below, iterate over the `soccer_match` list to create a new list with the colors for each team.\n",
    "\n",
    "This should be only one list containing strings for each of the country's colors, not a list of lists."
   ]
  },
  {
   "cell_type": "code",
   "execution_count": 6,
   "metadata": {},
   "outputs": [
    {
     "data": {
      "text/plain": [
       "['blue', 'white', 'red', 'green', 'gold']"
      ]
     },
     "execution_count": 6,
     "metadata": {},
     "output_type": "execute_result"
    }
   ],
   "source": [
    "colors = []\n",
    "\n",
    "# Iterate over the soccer_match list\n",
    "for match in soccer_match:\n",
    "    # Extend the colors list with the colors of the current team\n",
    "    colors.extend(match[\"colors\"])\n",
    "\n",
    "colors # ['blue', 'white', 'red', 'green', 'gold']"
   ]
  },
  {
   "cell_type": "markdown",
   "metadata": {},
   "source": [
    "## Players: A List of Dictionaries\n",
    "\n",
    "This time, iterate over the `soccer_match` list to create a new list with the players from each team. `players` should be a single list containing the dictionaries for each of the country's players."
   ]
  },
  {
   "cell_type": "code",
   "execution_count": 7,
   "metadata": {},
   "outputs": [
    {
     "name": "stdout",
     "output_type": "stream",
     "text": [
      "[{'name': 'Hugo LLORIS', 'captain': True, 'shirt_number': 1, 'position': 'Goalie'}, {'name': 'Benjamin PAVARD', 'captain': False, 'shirt_number': 2, 'position': 'Defender'}, {'name': 'Raphael VARANE', 'captain': False, 'shirt_number': 4, 'position': 'Defender'}, {'name': 'Samuel UMTITI', 'captain': False, 'shirt_number': 5, 'position': 'Defender'}, {'name': 'Paul POGBA', 'captain': False, 'shirt_number': 6, 'position': 'Midfield'}, {'name': 'Antoine GRIEZMANN', 'captain': False, 'shirt_number': 7, 'position': 'Forward'}, {'name': 'Kylian MBAPPE', 'captain': False, 'shirt_number': 10, 'position': 'Forward'}, {'name': 'Ousmane DEMBELE', 'captain': False, 'shirt_number': 11, 'position': 'Forward'}, {'name': 'Corentin TOLISSO', 'captain': False, 'shirt_number': 12, 'position': 'Midfield'}, {'name': 'Ngolo KANTE', 'captain': False, 'shirt_number': 13, 'position': 'Midfield'}, {'name': 'Lucas HERNANDEZ', 'captain': False, 'shirt_number': 21, 'position': 'Defender'}, {'name': 'Mathew RYAN', 'captain': False, 'shirt_number': 1, 'position': 'Goalie'}, {'name': 'Mark MILLIGAN', 'captain': False, 'shirt_number': 5, 'position': 'Defender'}, {'name': 'Mathew LECKIE', 'captain': False, 'shirt_number': 7, 'position': 'Forward'}, {'name': 'Robbie KRUSE', 'captain': False, 'shirt_number': 10, 'position': 'Forward'}, {'name': 'Andrew NABBOUT', 'captain': False, 'shirt_number': 11, 'position': 'Forward'}, {'name': 'Aaron MOOY', 'captain': False, 'shirt_number': 13, 'position': 'Midfield'}, {'name': 'Mile JEDINAK', 'captain': True, 'shirt_number': 15, 'position': 'Midfield'}, {'name': 'Aziz BEHICH', 'captain': False, 'shirt_number': 16, 'position': 'Defender'}, {'name': 'Joshua RISDON', 'captain': False, 'shirt_number': 19, 'position': 'Defender'}, {'name': 'Trent SAINSBURY', 'captain': False, 'shirt_number': 20, 'position': 'Defender'}, {'name': 'Tom ROGIC', 'captain': False, 'shirt_number': 23, 'position': 'Midfield'}]\n"
     ]
    }
   ],
   "source": [
    "players = []\n",
    "\n",
    "# Iterate over the soccer_match list\n",
    "for match in soccer_match:\n",
    "    # Extend the players list with the players of the current team\n",
    "    players.extend(match[\"players\"])\n",
    "\n",
    "print(players) # [{'name': 'Hugo LLORIS', 'captain': True, 'shirt_number': 1, 'position': 'Goalie'}, {'name': 'Benjamin PAVARD',...}, ...]"
   ]
  },
  {
   "cell_type": "markdown",
   "metadata": {},
   "source": [
    "## Captains: Another List of Dictionaries!\n",
    "\n",
    "Iterate over the `soccer_match` list to create a new list with the captains from each team.\n",
    "\n",
    "This should be a single list containing the dictionaries for each of the countries' captains."
   ]
  },
  {
   "cell_type": "code",
   "execution_count": 8,
   "metadata": {},
   "outputs": [
    {
     "data": {
      "text/plain": [
       "[{'name': 'Hugo LLORIS',\n",
       "  'captain': True,\n",
       "  'shirt_number': 1,\n",
       "  'position': 'Goalie'},\n",
       " {'name': 'Mile JEDINAK',\n",
       "  'captain': True,\n",
       "  'shirt_number': 15,\n",
       "  'position': 'Midfield'}]"
      ]
     },
     "execution_count": 8,
     "metadata": {},
     "output_type": "execute_result"
    }
   ],
   "source": [
    "captains = []\n",
    "\n",
    "# Iterate over the soccer_match list\n",
    "for match in soccer_match:\n",
    "    # Iterate over the players in the current team\n",
    "    for player in match[\"players\"]:\n",
    "        # Check if the player is the captain\n",
    "        if player[\"captain\"]:\n",
    "            # Append the captain's dictionary to the captains list\n",
    "            captains.append(player)\n",
    "            # Break the loop once the captain is found\n",
    "            break\n",
    "\n",
    "captains # One captain per team:\n",
    "# [{'name': 'Hugo LLORIS',\n",
    "#   'captain': True,\n",
    "#   'shirt_number': 1,\n",
    "#   'position': 'Goalie'},\n",
    "#  {'name': 'Mile JEDINAK',\n",
    "#   'captain': True,\n",
    "#   'shirt_number': 15,\n",
    "#   'position': 'Midfield'}]"
   ]
  },
  {
   "cell_type": "markdown",
   "metadata": {},
   "source": [
    "## Home Team Players: A Third List of Dictionaries\n",
    "\n",
    "Iterate over the `soccer_match` list to create a new list with the players from ONLY the home team.\n",
    "\n",
    "Do not \"hard-code\" which team this is; use the `'home_team'` key."
   ]
  },
  {
   "cell_type": "code",
   "execution_count": 9,
   "metadata": {},
   "outputs": [
    {
     "data": {
      "text/plain": [
       "[{'name': 'Hugo LLORIS',\n",
       "  'captain': True,\n",
       "  'shirt_number': 1,\n",
       "  'position': 'Goalie'},\n",
       " {'name': 'Benjamin PAVARD',\n",
       "  'captain': False,\n",
       "  'shirt_number': 2,\n",
       "  'position': 'Defender'},\n",
       " {'name': 'Raphael VARANE',\n",
       "  'captain': False,\n",
       "  'shirt_number': 4,\n",
       "  'position': 'Defender'},\n",
       " {'name': 'Samuel UMTITI',\n",
       "  'captain': False,\n",
       "  'shirt_number': 5,\n",
       "  'position': 'Defender'},\n",
       " {'name': 'Paul POGBA',\n",
       "  'captain': False,\n",
       "  'shirt_number': 6,\n",
       "  'position': 'Midfield'},\n",
       " {'name': 'Antoine GRIEZMANN',\n",
       "  'captain': False,\n",
       "  'shirt_number': 7,\n",
       "  'position': 'Forward'},\n",
       " {'name': 'Kylian MBAPPE',\n",
       "  'captain': False,\n",
       "  'shirt_number': 10,\n",
       "  'position': 'Forward'},\n",
       " {'name': 'Ousmane DEMBELE',\n",
       "  'captain': False,\n",
       "  'shirt_number': 11,\n",
       "  'position': 'Forward'},\n",
       " {'name': 'Corentin TOLISSO',\n",
       "  'captain': False,\n",
       "  'shirt_number': 12,\n",
       "  'position': 'Midfield'},\n",
       " {'name': 'Ngolo KANTE',\n",
       "  'captain': False,\n",
       "  'shirt_number': 13,\n",
       "  'position': 'Midfield'},\n",
       " {'name': 'Lucas HERNANDEZ',\n",
       "  'captain': False,\n",
       "  'shirt_number': 21,\n",
       "  'position': 'Defender'}]"
      ]
     },
     "execution_count": 9,
     "metadata": {},
     "output_type": "execute_result"
    }
   ],
   "source": [
    "home_team_players = []\n",
    "\n",
    "# Iterate over the soccer_match list\n",
    "for match in soccer_match:\n",
    "    # Check if the current team is the home team\n",
    "    if match[\"home_team\"]:\n",
    "        # Extend the home_team_players list with the players of the home team\n",
    "        home_team_players.extend(match[\"players\"])\n",
    "\n",
    "home_team_players\n",
    "\n",
    "# [{'name': 'Hugo LLORIS',\n",
    "#   'captain': True,\n",
    "#   'shirt_number': 1,\n",
    "#   'position': 'Goalie'},\n",
    "#  ...\n",
    "#  {'name': 'Lucas HERNANDEZ',\n",
    "#   'captain': False,\n",
    "#   'shirt_number': 21,\n",
    "#   'position': 'Defender'}]"
   ]
  },
  {
   "cell_type": "markdown",
   "metadata": {},
   "source": [
    "## Away Team Forwards: Yup, a List of Dictionaries\n",
    "\n",
    "Iterate over the `soccer_match` list to create a new list with the information for each of the away team players whose `position` is `\"Forward\"`."
   ]
  },
  {
   "cell_type": "code",
   "execution_count": 10,
   "metadata": {},
   "outputs": [
    {
     "data": {
      "text/plain": [
       "[{'name': 'Mathew LECKIE',\n",
       "  'captain': False,\n",
       "  'shirt_number': 7,\n",
       "  'position': 'Forward'},\n",
       " {'name': 'Robbie KRUSE',\n",
       "  'captain': False,\n",
       "  'shirt_number': 10,\n",
       "  'position': 'Forward'},\n",
       " {'name': 'Andrew NABBOUT',\n",
       "  'captain': False,\n",
       "  'shirt_number': 11,\n",
       "  'position': 'Forward'}]"
      ]
     },
     "execution_count": 10,
     "metadata": {},
     "output_type": "execute_result"
    }
   ],
   "source": [
    "away_team_forwards = []\n",
    "\n",
    "# Iterate over the soccer_match list\n",
    "for match in soccer_match:\n",
    "    # Check if the current team is the away team\n",
    "    if match[\"away_team\"]:\n",
    "        # Iterate over the players in the current team\n",
    "        for player in match[\"players\"]:\n",
    "            # Check if the player's position is \"Forward\"\n",
    "            if player[\"position\"] == \"Forward\":\n",
    "                # Append the player's dictionary to the away_team_forwards list\n",
    "                away_team_forwards.append(player)\n",
    "\n",
    "away_team_forwards\n",
    "# [{'name': 'Mathew LECKIE',\n",
    "#   'captain': False,\n",
    "#   'shirt_number': 7,\n",
    "#   'position': 'Forward'},\n",
    "#  {'name': 'Robbie KRUSE',\n",
    "#   'captain': False,\n",
    "#   'shirt_number': 10,\n",
    "#   'position': 'Forward'},\n",
    "#  {'name': 'Andrew NABBOUT',\n",
    "#   'captain': False,\n",
    "#   'shirt_number': 11,\n",
    "#   'position': 'Forward'}]"
   ]
  },
  {
   "cell_type": "markdown",
   "metadata": {},
   "source": [
    "## Player with the Highest Number\n",
    "\n",
    "Iterate over the `soccer_match` list and find the player with the highest `shirt_number`.  \n",
    "Store this player's information in the `player_with_highest_num` variable."
   ]
  },
  {
   "cell_type": "code",
   "execution_count": 11,
   "metadata": {},
   "outputs": [
    {
     "data": {
      "text/plain": [
       "{'name': 'Tom ROGIC',\n",
       " 'captain': False,\n",
       " 'shirt_number': 23,\n",
       " 'position': 'Midfield'}"
      ]
     },
     "execution_count": 11,
     "metadata": {},
     "output_type": "execute_result"
    }
   ],
   "source": [
    "player_with_highest_num = None\n",
    "highest_shirt_number = -1  # Initialize with a value lower than any possible shirt number\n",
    "# Iterate over the soccer_match list\n",
    "for match in soccer_match:\n",
    "    # Iterate over the players in the current team\n",
    "    for player in match[\"players\"]:\n",
    "        # Check if the current player's shirt number is higher than the highest encountered so far\n",
    "        if player[\"shirt_number\"] > highest_shirt_number:\n",
    "            highest_shirt_number = player[\"shirt_number\"]\n",
    "            player_with_highest_num = player\n",
    "\n",
    "player_with_highest_num\n",
    "# {'name': 'Tom ROGIC',\n",
    "#  'captain': False,\n",
    "#  'shirt_number': 23,\n",
    "#  'position': 'Midfield'}"
   ]
  },
  {
   "cell_type": "markdown",
   "metadata": {},
   "source": [
    "## Player Names: A Cleaned List\n",
    "\n",
    "Notice that the players oddly have their last names in all caps. Create a list of all the names of the players in this match. Be sure to make sure their first and last names are properly capitalized (first letter upper case, proceeding letters lower case), as opposed to how they are currently formatted."
   ]
  },
  {
   "cell_type": "code",
   "execution_count": 12,
   "metadata": {},
   "outputs": [
    {
     "data": {
      "text/plain": [
       "['Hugo Lloris',\n",
       " 'Benjamin Pavard',\n",
       " 'Raphael Varane',\n",
       " 'Samuel Umtiti',\n",
       " 'Paul Pogba',\n",
       " 'Antoine Griezmann',\n",
       " 'Kylian Mbappe',\n",
       " 'Ousmane Dembele',\n",
       " 'Corentin Tolisso',\n",
       " 'Ngolo Kante',\n",
       " 'Lucas Hernandez',\n",
       " 'Mathew Ryan',\n",
       " 'Mark Milligan',\n",
       " 'Mathew Leckie',\n",
       " 'Robbie Kruse',\n",
       " 'Andrew Nabbout',\n",
       " 'Aaron Mooy',\n",
       " 'Mile Jedinak',\n",
       " 'Aziz Behich',\n",
       " 'Joshua Risdon',\n",
       " 'Trent Sainsbury',\n",
       " 'Tom Rogic']"
      ]
     },
     "execution_count": 12,
     "metadata": {},
     "output_type": "execute_result"
    }
   ],
   "source": [
    "player_names = []\n",
    "\n",
    "# Iterate over the soccer_match list\n",
    "for match in soccer_match:\n",
    "    # Iterate over the players in the current team\n",
    "    for player in match[\"players\"]:\n",
    "        # Split the name into first and last names\n",
    "        first_name, last_name = player[\"name\"].split()\n",
    "        # Capitalize the first and last names properly\n",
    "        formatted_name = f\"{first_name.capitalize()} {last_name.capitalize()}\"\n",
    "        # Append the formatted name to the player_names list\n",
    "        player_names.append(formatted_name)\n",
    "\n",
    "player_names\n",
    "# ['Hugo Lloris',\n",
    "#  'Benjamin Pavard',\n",
    "#  'Raphael Varane',\n",
    "#  'Samuel Umtiti',\n",
    "#  'Paul Pogba',\n",
    "#  'Antoine Griezmann',\n",
    "#  'Kylian Mbappe',\n",
    "#  'Ousmane Dembele',\n",
    "#  'Corentin Tolisso',\n",
    "#  'Ngolo Kante',\n",
    "#  'Lucas Hernandez',\n",
    "#  'Mathew Ryan',\n",
    "#  'Mark Milligan',\n",
    "#  'Mathew Leckie',\n",
    "#  'Robbie Kruse',\n",
    "#  'Andrew Nabbout',\n",
    "#  'Aaron Mooy',\n",
    "#  'Mile Jedinak',\n",
    "#  'Aziz Behich',\n",
    "#  'Joshua Risdon',\n",
    "#  'Trent Sainsbury',\n",
    "#  'Tom Rogic']"
   ]
  },
  {
   "cell_type": "markdown",
   "metadata": {},
   "source": [
    "## Summary"
   ]
  },
  {
   "cell_type": "markdown",
   "metadata": {},
   "source": [
    "In this lab, you practiced using nested loops to iterate through a nested data structure using data from a soccer match. Nested data structures can be quite complicated and it can become difficult to access more nested data. With nested loops, you are able to dynamically access this nested data and work with it as you would with a flatter data structure. It is important to think about the structure of the data before and while you're working so you know exactly what data you are working with at each level."
   ]
  }
 ],
 "metadata": {
  "kernelspec": {
   "display_name": "Python 3 (ipykernel)",
   "language": "python",
   "name": "python3"
  },
  "language_info": {
   "codemirror_mode": {
    "name": "ipython",
    "version": 3
   },
   "file_extension": ".py",
   "mimetype": "text/x-python",
   "name": "python",
   "nbconvert_exporter": "python",
   "pygments_lexer": "ipython3",
   "version": "3.12.4"
  },
  "toc": {
   "base_numbering": 1,
   "nav_menu": {},
   "number_sections": true,
   "sideBar": true,
   "skip_h1_title": false,
   "title_cell": "Table of Contents",
   "title_sidebar": "Contents",
   "toc_cell": false,
   "toc_position": {},
   "toc_section_display": true,
   "toc_window_display": false
  }
 },
 "nbformat": 4,
 "nbformat_minor": 4
}
